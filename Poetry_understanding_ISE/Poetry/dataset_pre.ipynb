{
 "cells": [
  {
   "cell_type": "code",
   "execution_count": 1,
   "metadata": {},
   "outputs": [],
   "source": [
    "import pandas as pd\n",
    "import nltk\n",
    "import numpy as np"
   ]
  },
  {
   "cell_type": "code",
   "execution_count": 24,
   "metadata": {},
   "outputs": [],
   "source": [
    "poetry = pd.read_csv('poetry.csv', names=['context', 'index', 'label'])"
   ]
  },
  {
   "cell_type": "code",
   "execution_count": 25,
   "metadata": {},
   "outputs": [
    {
     "name": "stdout",
     "output_type": "stream",
     "text": [
      "                                              context  index  label\n",
      "0                                  poise is a club .       1      1\n",
      "1        destroying alexandria . sunlight is silence       4      1\n",
      "2     feet are no anchor . gravity sucks at the mind       1      1\n",
      "3        on the day 's horizon is a gesture of earth       5      1\n",
      "4        he said good-by as if good-by is a number .       6      1\n",
      "..                                                ...    ...    ...\n",
      "580  as the season of cold is the season of darkness       5      0\n",
      "581                    else all beasts were tigers ,       3      1\n",
      "582                      without which earth is sand       3      0\n",
      "583                        the sky is cloud on cloud       2      0\n",
      "584                                the sky is cloudy       2      0\n",
      "\n",
      "[585 rows x 3 columns]\n"
     ]
    }
   ],
   "source": [
    "print(poetry)"
   ]
  },
  {
   "cell_type": "code",
   "execution_count": 26,
   "metadata": {},
   "outputs": [],
   "source": [
    "from nltk.tokenize import RegexpTokenizer\n",
    "from nltk.tokenize import TweetTokenizer"
   ]
  },
  {
   "cell_type": "code",
   "execution_count": 27,
   "metadata": {
    "scrolled": true
   },
   "outputs": [],
   "source": [
    "# # tokenizer = RegexpTokenizer(r'\\w+')\n",
    "# # poetry['tokens'] = poetry['context'].apply(tokenizer.tokenize)\n",
    "# tknzr = TweetTokenizer()\n",
    "# poetry['tokens'] = poetry['context'].apply(tknzr.tokenize)\n",
    "# print(poetry)"
   ]
  },
  {
   "cell_type": "code",
   "execution_count": 28,
   "metadata": {},
   "outputs": [
    {
     "name": "stdout",
     "output_type": "stream",
     "text": [
      "[1, 4, 1, 5, 6, 3, 6, 2, 1, 2, 1, 5, 2, 1, 8, 5, 1, 2, 3, 2, 2, 3, 3, 7, 2, 3, 7, 8, 3, 1, 2, 1, 2, 2, 3, 2, 4, 2, 6, 2, 6, 7, 2, 2, 1, 1, 2, 2, 1, 2, 3, 1, 3, 3, 7, 2, 5, 8, 7, 4, 2, 9, 5, 6, 3, 2, 3, 8, 1, 1, 7, 17, 22, 2, 3, 3, 7, 3, 11, 2, 5, 5, 2, 3, 2, 4, 3, 3, 4, 8, 2, 2, 2, 3, 4, 3, 1, 2, 7, 7, 5, 2, 5, 3, 2, 2, 2, 2, 1, 8, 1, 3, 7, 5, 4, 13, 2, 1, 4, 4, 1, 2, 2, 8, 2, 4, 5, 2, 5, 1, 3, 4, 9, 8, 9, 3, 3, 2, 2, 6, 2, 9, 5, 4, 6, 1, 6, 3, 2, 3, 8, 5, 1, 5, 2, 2, 9, 4, 3, 3, 5, 12, 2, 4, 2, 3, 1, 4, 6, 5, 2, 4, 6, 4, 2, 3, 1, 6, 1, 2, 5, 6, 5, 5, 2, 6, 3, 4, 8, 6, 4, 1, 6, 2, 6, 11, 1, 10, 4, 6, 2, 6, 2, 4, 5, 3, 5, 8, 1, 1, 1, 6, 2, 7, 2, 8, 2, 8, 2, 8, 8, 7, 2, 2, 2, 3, 3, 4, 3, 5, 2, 2, 6, 5, 3, 7, 4, 2, 3, 9, 9, 2, 6, 8, 9, 3, 9, 2, 4, 3, 3, 3, 4, 4, 1, 1, 2, 2, 1, 2, 5, 2, 2, 2, 4, 3, 5, 5, 7, 2, 8, 5, 8, 7, 5, 9, 5, 2, 4, 1, 8, 2, 2, 1, 3, 2, 4, 7, 2, 3, 6, 4, 11, 4, 13, 3, 4, 1, 3, 2, 5, 4, 4, 3, 5, 5, 3, 2, 7, 10, 2, 2, 2, 6, 8, 4, 2, 5, 2, 2, 5, 12, 4, 2, 2, 1, 5, 4, 3, 2, 2, 7, 1, 1, 1, 1, 2, 11, 1, 2, 7, 7, 6, 4, 2, 5, 3, 3, 8, 2, 3, 2, 2, 2, 3, 4, 2, 5, 3, 3, 5, 1, 5, 1, 8, 5, 1, 2, 9, 7, 2, 5, 8, 4, 4, 5, 7, 2, 3, 2, 2, 2, 2, 2, 2, 9, 3, 6, 2, 5, 4, 2, 3, 1, 2, 9, 1, 2, 3, 1, 1, 1, 8, 2, 8, 8, 2, 2, 1, 4, 5, 2, 5, 4, 2, 5, 8, 4, 5, 5, 2, 5, 5, 4, 2, 8, 2, 2, 5, 1, 5, 1, 9, 5, 5, 1, 6, 3, 10, 1, 3, 4, 3, 3, 5, 3, 3, 3, 2, 6, 7, 4, 3, 4, 6, 8, 6, 14, 2, 3, 2, 2, 6, 1, 3, 2, 2, 2, 1, 1, 3, 5, 10, 8, 2, 1, 6, 5, 2, 2, 2, 4, 5, 1, 3, 4, 2, 2, 2, 3, 3, 5, 2, 5, 3, 2, 1, 5, 5, 1, 1, 1, 4, 2, 7, 5, 7, 4, 7, 2, 2, 5, 6, 1, 5, 4, 3, 1, 1, 2, 1, 1, 4, 11, 2, 4, 5, 5, 1, 3, 5, 5, 2, 2, 12, 5, 2, 2, 2, 12, 10, 2, 6, 2, 3, 2, 5, 3, 4, 43, 1, 1, 2, 2, 2, 3, 1, 8, 7, 7, 7, 1, 13, 2, 5, 4, 2, 4, 1, 3, 2, 3, 2, 7, 2, 2, 7, 1, 7, 3, 5, 3, 3, 2, 2]\n"
     ]
    }
   ],
   "source": [
    "index = []\n",
    "for j in range(poetry.shape[0]):\n",
    "    index.append(int(poetry.iloc[j,1]))\n",
    "print(index)"
   ]
  },
  {
   "cell_type": "code",
   "execution_count": 29,
   "metadata": {},
   "outputs": [],
   "source": [
    "poetry['verb'] = None\n",
    "#     print(poetry)\n",
    "for i in range(poetry.shape[0]):\n",
    "    poetry.iloc[i, 3] = poetry.iloc[i, 0].split()[index[i]-1]"
   ]
  },
  {
   "cell_type": "code",
   "execution_count": 21,
   "metadata": {},
   "outputs": [
    {
     "name": "stdout",
     "output_type": "stream",
     "text": [
      "                                               context  index  label      verb\n",
      "0                                   poise is a club .       1      1     poise\n",
      "1         destroying alexandria . sunlight is silence       4      1  sunlight\n",
      "2      feet are no anchor . gravity sucks at the mind       1      1      feet\n",
      "3         on the day 's horizon is a gesture of earth       5      1   horizon\n",
      "4         he said good-by as if good-by is a number .       6      1   good-by\n",
      "..                                                 ...    ...    ...       ...\n",
      "463       everyone is a friend of his own pathology .       1      0  everyone\n",
      "464      where my children are distances , horizons :       3      1  children\n",
      "465  the saulis are borrowit and to the bliss can g...      2      0    saulis\n",
      "466                          my name is colin clout .       2      0      name\n",
      "467                       their purpose is ambition ,       2      0   purpose\n",
      "\n",
      "[468 rows x 4 columns]\n"
     ]
    }
   ],
   "source": [
    "print(poetry)"
   ]
  },
  {
   "cell_type": "code",
   "execution_count": 9,
   "metadata": {},
   "outputs": [
    {
     "name": "stdout",
     "output_type": "stream",
     "text": [
      "468\n",
      "                                               context  index  label    tokens\n",
      "0                                   poise is a club .       1      1     poise\n",
      "1         destroying alexandria . sunlight is silence       4      1  sunlight\n",
      "2      feet are no anchor . gravity sucks at the mind       1      1      feet\n",
      "3         on the day 's horizon is a gesture of earth       5      1         s\n",
      "4         he said good-by as if good-by is a number .       6      1   good-by\n",
      "..                                                 ...    ...    ...       ...\n",
      "463       everyone is a friend of his own pathology .       1      0  everyone\n",
      "464      where my children are distances , horizons :       3      1  children\n",
      "465  the saulis are borrowit and to the bliss can g...      2      0    saulis\n",
      "466                          my name is colin clout .       2      0      name\n",
      "467                       their purpose is ambition ,       2      0   purpose\n",
      "\n",
      "[468 rows x 4 columns]\n"
     ]
    }
   ],
   "source": [
    "# print(poetry.shape[0])\n",
    "# # print(poetry.iloc[2,3][3])\n",
    "# for i in range(poetry.shape[0]):\n",
    "# #     print(poetry.iloc[i,3][index[i]-1])\n",
    "#     poetry.iloc[i, 3] = poetry.iloc[i,3][index[i]-1]\n",
    "# print(poetry)"
   ]
  },
  {
   "cell_type": "markdown",
   "metadata": {},
   "source": [
    "re-range the column"
   ]
  },
  {
   "cell_type": "code",
   "execution_count": 30,
   "metadata": {},
   "outputs": [
    {
     "name": "stdout",
     "output_type": "stream",
     "text": [
      "         verb                                           context  index  label\n",
      "0       poise                                poise is a club .       1      1\n",
      "1    sunlight      destroying alexandria . sunlight is silence       4      1\n",
      "2        feet   feet are no anchor . gravity sucks at the mind       1      1\n",
      "3     horizon      on the day 's horizon is a gesture of earth       5      1\n",
      "4     good-by      he said good-by as if good-by is a number .       6      1\n",
      "..        ...                                               ...    ...    ...\n",
      "580      cold  as the season of cold is the season of darkness       5      0\n",
      "581    beasts                    else all beasts were tigers ,       3      1\n",
      "582     earth                      without which earth is sand       3      0\n",
      "583       sky                        the sky is cloud on cloud       2      0\n",
      "584       sky                                the sky is cloudy       2      0\n",
      "\n",
      "[585 rows x 4 columns]\n"
     ]
    }
   ],
   "source": [
    "order = ['verb', 'context', 'index', 'label']\n",
    "poetry = poetry[order]\n",
    "print(poetry)"
   ]
  },
  {
   "cell_type": "code",
   "execution_count": 33,
   "metadata": {},
   "outputs": [],
   "source": [
    "poetry.to_csv(\"poetry_converted.csv\")"
   ]
  },
  {
   "cell_type": "code",
   "execution_count": null,
   "metadata": {},
   "outputs": [],
   "source": []
  }
 ],
 "metadata": {
  "kernelspec": {
   "display_name": "Python 3",
   "language": "python",
   "name": "python3"
  },
  "language_info": {
   "codemirror_mode": {
    "name": "ipython",
    "version": 3
   },
   "file_extension": ".py",
   "mimetype": "text/x-python",
   "name": "python",
   "nbconvert_exporter": "python",
   "pygments_lexer": "ipython3",
   "version": "3.7.4"
  }
 },
 "nbformat": 4,
 "nbformat_minor": 2
}

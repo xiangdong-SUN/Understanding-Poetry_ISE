{
 "cells": [
  {
   "cell_type": "code",
   "execution_count": 2,
   "metadata": {},
   "outputs": [],
   "source": [
    "import gzip, json\n",
    "all_lines = []\n",
    "for line in gzip.open('./gutenberg-poetry-corpus-master/gutenberg-poetry-v001.ndjson.gz'):\n",
    "    all_lines.append(json.loads(line.strip()))"
   ]
  },
  {
   "cell_type": "code",
   "execution_count": 3,
   "metadata": {},
   "outputs": [],
   "source": [
    "import random"
   ]
  },
  {
   "cell_type": "code",
   "execution_count": 4,
   "metadata": {},
   "outputs": [
    {
     "data": {
      "text/plain": [
       "[{'s': 'Between his eyes so broad was he in front', 'gid': '391'},\n",
       " {'s': \"That dwelt within, whose presence had infus'd\", 'gid': '1745'},\n",
       " {'s': 'Into a walking paradox;', 'gid': '4697'},\n",
       " {'s': 'Time-tired souls salute thee from the shore.', 'gid': '28591'},\n",
       " {'s': 'We are to play the game of death to-night', 'gid': '6686'},\n",
       " {'s': 'I shall be glad to serve what way is in my power.', 'gid': '1020'},\n",
       " {'s': 'I stood beneath the wall', 'gid': '10122'},\n",
       " {'s': 'Or throw a pebble from thy prison walls.', 'gid': '34050'}]"
      ]
     },
     "execution_count": 4,
     "metadata": {},
     "output_type": "execute_result"
    }
   ],
   "source": [
    "random.sample(all_lines, 8)"
   ]
  },
  {
   "cell_type": "markdown",
   "metadata": {},
   "source": [
    "# Concordances and counts"
   ]
  },
  {
   "cell_type": "markdown",
   "metadata": {},
   "source": [
    "The corpus could be useful for collecting, counting and comparing lines of poetry with certain characteristics. Here's our first experiment: find every line of poetry in the corpus with the word \"flower.\" I do this using a regular expression that finds the string flower between two word boundaries, without respect to case:"
   ]
  },
  {
   "cell_type": "code",
   "execution_count": 7,
   "metadata": {},
   "outputs": [],
   "source": [
    "import re\n",
    "flower_lines = [line['s'] for line in all_lines if re.search(r'\\bflower\\b', line['s'], re.I)]"
   ]
  },
  {
   "cell_type": "code",
   "execution_count": 24,
   "metadata": {},
   "outputs": [
    {
     "name": "stdout",
     "output_type": "stream",
     "text": [
      "200\n",
      "[['Each tempting flower is sweet and fair,'], ['To the asphodel flower-place,'], [\"Love's not a flower at sunset droops,\"], ['We reckon by his songs, each song a flower,'], ['\"All of the flower girl\\'s lilies'], ['Like to that sanguine flower inscribed with woe.'], ['While each flower the dew was swigging, '], ['_They sing lightly, their flower trays under their arms._'], ['Watering with tears each lowly wayside flower,'], [\"When the flower is i' the bud and the leaf is on the tree,\"], [\"In the still cave and forest; o'er the flower\"], ['Heaven will bloom like one great flower for you,'], ['My silver flower, my bright-winged bird,'], ['O flower of all the years, O flower of all,'], ['The Flower that once has blown for ever dies.'], ['Arts of peace shall be thy flower:'], ['cyperum, frail of flower,'], ['(White, O white, is the hemlock flower)!'], [\"Nor any flower within this flow'ry vale\"], ['\"If there be a stray flower for me I will wear it in my heart.\"'], ['And from that branch a rose-flower tear,'], ['When on some gilded cloud or flower'], ['And still each little flower doth say,'], ['Each flower of slender stalk, whose head, though gay,'], ['All in their pride the flower of Britain fell.'], [\"Breast-deep 'mid flower and spine:\"], ['For the Sun-flower droops and is pale'], ['Of all the Saracens the choice and flower'], ['From the flower-bed he made.'], ['Too happy days! when, if he touched a flower'], ['Lost passion-flower of the sinking sun--'], ['For thou hast had my fairest flower,'], ['The flower of the harem, Rose-in-Bloom,'], ['To watch, hour by hour, the unfolding of the flower.'], [\"Pluck Love's flame-hearted flower ere it dies;\"], ['They knew me not,--blue flower, blue eyes;'], ['Shall flower then the beauty of your face?'], ['Fayre Venice, flower of the last worlds delight;'], ['Too much seed of fruit and flower,'], ['Of a flower crowning the twisted tree.'], ['Who crept into an orange flower-bell,'], ['Then Nature said, \"A lovelier flower'], ['A flower some forgetful god had from his hand let fall.'], ['A splendid flower amidst the foliage green!'], ['Like the flower bent to ground'], ['The white lotus-flower'], ['But vain was valor--vain the flower'], ['Flowers are lovely; Love is flower-like;'], ['The flower-goddess smiled to see'], ['Of sylph and river, flower and fay,'], ['The sod scarce heaved; and that tall flower that wets--'], ['A simple flower deceives.'], ['And ah, thy breast-flower!'], ['His hands, as pinkly tinted as a flower,'], ['Take up the flower in the child.'], ['A flower expected everywhere;'], ['\"In her the flower o\\' the sex is found!\"'], ['And every flower that sad embroidery wears:'], ['Followed him, dropping flower seeds.'], [\"And here's the flower that I loe best,\"], ['As if some little Arctic flower,'], [\"Ev'ry tree, ev'ry flower, is linked with the past,\"], ['The shutting flower, and darkling waters pass,'], ['Then one drew near who bore the flower'], ['Perfidy                               _Common Laurel, in flower._'], ['Enjoy the flower of their age, when now'], [\"Bruised balsam and the wax-flower's lowly weed,\"], ['This flower is repeated'], ['Her fearful sobs, self-folding like a flower'], ['of the plant. The corol of the flower appears to be a'], ['Of that fair flower, whom duly I invoke'], ['The wind-flower and the violet, they perished long ago,'], ['The flower of the sex extol,'], ['With the flower in my bosom.'], [\"Flower of the summer's rose,\"], ['Shall leave no vestige of this flower.'], ['Wert the red flower perfuming my life,'], ['And crown of flower-de-luce trip down the lea,'], [\"Of flower'd embroidery of gold\"], ['When life had faded with the flower and leaf,'], [\"A rare, sweet flower of heaven that ne'er should die,\"], ['With the sharp scythe to cut the grass or flower,'], ['My virgin flower, my flower of flowers,'], [\"Is all as cool and white as any flower.'\"], [\"'Mid the flower-buds it shimmers\"], [\"He'll wither your youngest flower.\"], [\"That is my garden.  How each flower's face\"], [\" _The woe-mark'd flower of slain Adonis--water'd by the tears of\"], ['For me--this withering flower of dreams.\"'], ['The flower you might have sent, dear,'], ['The flower fades and dies; but he who wears the flower has not to'], ['A lotus like a grove in flower fair.'], ['Breathes into the flower new birth,'], ['Whispered in star and in flower; a Spirit,'], ['Now, let discord scream!  You were my flower!'], [\"And all the flower o' Northumberland.\"], ['You seize the flower, its bloom is shed;'], ['His feet may press the flower-bespangled sod,'], ['Watering with tears each lowly wayside flower,'], ['From a breast-flower nigh to bud?'], ['In flurry! The Flower Festival has come!'], ['With here and there a flower:  his lofty brow'], ['Pomegranate, Flower                   _Mature elegance._'], [\"Some clown's coarse lungs will poison thy sweet flower,\"], ['Or could so delicate a flower'], [\"Each plant and flower at length being view'd,\"], [\"Pluck Love's flame-hearted flower ere it dies;\"], ['The flower which the wind has shaken'], ['Gone are the wind-flower and the adder-tongue'], ['In the windless air; the flower'], [\"The root and, flower, o' the sky above\"], ['He\\'ll \"not believe that the least flower which pranks'], ['God make my life a little flower,'], ['And never a flower but knew it, sweetly taking'], ['Go away butterfly--this flower is for me.'], ['Who lent me thee, the flower of kitchendom,'], [' Small purple flower; grows by the wayside in the South.'], ['When on some gilded cloud or flower'], [\"Full flower'd, and visible on every steep,\"], ['Will store each flower, ye duteous lay,'], ['Parnassus names the flower, the star,'], ['Like perfume in the laden flower, like aught'], ['And scatter their leaves in a flower-soft rain'], ['But lately, one rough day, this Flower I passed'], ['The post office is in a flower,'], ['Each flower has wept, and bowed toward the East'], ['Laden with flower and fruit, whereof they gave'], ['Hers, a cowering flower under it.'], ['The moon, like a flower,'], [\"An' mony a simple flower we 've cull'd,\"], ['Her lips like the cactus flower'], [\"There's not a flower that blooms in May\"], ['Is any place so sweet that such a flower'], ['The wild flower on the grassy mound'], ['Estranged love                        _Lotus Flower._'], ['Of the flower of his Tuscans wrote,'], ['With flower-inwoven tresses torn'], ['One little flower, the flower forget-me-not,'], ['As ordered flower succeeds to flower,'], ['flower-roots are dead, and no soft dews descend for us to drink,'], ['Calling out each bud and flower'], [\"An old-man's corpse with many a flower,--\"], ['A low, wide window flower-filled,'], ['And Thine anger cleave me through, as a child cuts down a flower,'], ['The flower of flowers. Ah, pity, pity me!'], ['\"I hadna pu\\'d a flower but ane,'], [\"Has neither crown nor flower's perfume;\"], ['But my time for flower-gathering is over, and through the dark'], ['Infinite gardens, never bare of flower,'], ['But to me, neglected flower,'], ['Of which they are, as I suppose, the flower --'], [\"'Tis man's breath kills the spring's soft-petaled flower--\"], ['With fillet and with flower to dress.'], ['For beauty unmatched is the Flower of the Tyne.'], ['\"Shall I bloom?\" says the Flower;'], ['Flower and leaf and grass and tree,'], ['Thy flower forevermore!'], ['When she is all one flower divine.'], [\"In flower of youth and beauty's pride:--\"], [\"Saari's maiden, Saari's flower,\"], ['Rose, thou art the sweetest flower'], ['Gave to Nature flower and sward.'], ['Possessed the flower: from heart and brain'], ['This very flower of fame,--that by my arts I saved'], ['I met them one day and each had a flower'], [\"Dear common flower, that grow'st beside the way,\"], ['A mail-clad warrior watched each delicate flower'], ['From all of the sweet flower throng,'], ['Saw the earliest flower of Spring-time,'], [\"Flower of the summer's rose,\"], ['Flower of soul, Anemone!'], ['Explain the Smallest Flower away.\"'], ['Flaunts like the corol of a summer flower,'], ['While flower and gum the air with fragrance lade.'], ['Fair gardens lying, where of fruit and flower'], ['I know that my heart would open like a flower; that my life has'], ['Could there a flower that rose exceed?'], ['Take the flower and turn the hour, and kiss your love again!'], ['Like the bud and the flower'], [\"And far o'er field, and flower, and tree,\"], ['My life was like an Aloe flower, beneath an orient sky,'], [\"There's ne'er a flower that blooms in May\"], ['great flower which is adorned with so many leaves, and thence'], ['Flower!  Flower, I see Him pass'], ['And prove (he did it) that the flower of all,'], ['Twin flower of bright Northumberland,'], ['She had, in her flower,'], ['And every flower was starved and gone.'], ['To the flower-rose, said the maiden Rosa--'], ['Is our lost garden, flower, bird and hive.'], ['flower which fades and changes as it is developed, and the'], ['If on that flower she feed her raptured eye,'], [\"'If you who sowed the seeds of love, destroy the flower,\"], ['Shall flower then the beauty of your face?'], ['A flower, a transitory thing,'], ['Nor any other flower that blows:'], ['Came one who bore a flower,'], ['Of song and flower and sky and face,'], ['The flower uncurled:'], ['With its faint musk of flower;']]\n"
     ]
    }
   ],
   "source": [
    "corpus_to_be_labeled = []\n",
    "for i in range(200):\n",
    "    corpus_to_be_labeled.append(random.sample(flower_lines,1 ))\n",
    "print(len(corpus_to_be_labeled))\n",
    "print(corpus_to_be_labeled)"
   ]
  },
  {
   "cell_type": "code",
   "execution_count": 33,
   "metadata": {},
   "outputs": [],
   "source": [
    "import pandas as pd\n",
    "corpus_to_be_labeled1 = pd.DataFrame(data=corpus_to_be_labeled)\n",
    "corpus_to_be_labeled1.to_csv('./gutenberg-poetry-corpus-master/corpus_to_be_labeled.csv',encoding='utf-8')"
   ]
  },
  {
   "cell_type": "code",
   "execution_count": null,
   "metadata": {},
   "outputs": [],
   "source": []
  }
 ],
 "metadata": {
  "kernelspec": {
   "display_name": "Python 3",
   "language": "python",
   "name": "python3"
  },
  "language_info": {
   "codemirror_mode": {
    "name": "ipython",
    "version": 3
   },
   "file_extension": ".py",
   "mimetype": "text/x-python",
   "name": "python",
   "nbconvert_exporter": "python",
   "pygments_lexer": "ipython3",
   "version": "3.7.4"
  }
 },
 "nbformat": 4,
 "nbformat_minor": 2
}

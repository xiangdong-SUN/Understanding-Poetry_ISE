{
 "cells": [
  {
   "cell_type": "code",
   "execution_count": 11,
   "metadata": {},
   "outputs": [],
   "source": [
    "import gzip, json\n",
    "all_lines = []\n",
    "for line in gzip.open('./gutenberg-poetry-corpus-master/gutenberg-poetry-v001.ndjson.gz'):\n",
    "    all_lines.append(json.loads(line.strip()))"
   ]
  },
  {
   "cell_type": "code",
   "execution_count": 12,
   "metadata": {},
   "outputs": [],
   "source": [
    "import random"
   ]
  },
  {
   "cell_type": "code",
   "execution_count": 45,
   "metadata": {},
   "outputs": [
    {
     "name": "stdout",
     "output_type": "stream",
     "text": [
      "['From thine embrace still startles coy,', 'And in gay Holyrood the while', 'Dismiss the bow, and lay thy arrows by:', \"At a new boat's keel was working,\", 'Bring me wine, bring it quick, make no halt!', 'literature, at the period of its highest perfection.', 'Stanza xxii.      \"Unhappy Vathek! in an evil hour,\"--', 'Fast and deep the river floweth,', 'And his guest now to the garden.', \"Their father's honour, but more blest to whom\", 'With Him who knows and satisfies her needs.', 'And implore the very Highest,', 'As patient as a statue carved in stone,', 'Thou reach, expectance may not weary thee,', 'Such the spell I cast upon you,', 'Name the third of the destroyers.\"', 'Then up and spake an old sailor,', 'On that big inflated ball.', 'Where, crowned with roses, stands the DAWN,', 'Because the angels, bidden to receive', 'And hearken to the birds love-learned song,', 'Thou shalt receive rich guerdon, when he hears', 'And musing on the little lives of men,', 'So fain would I come to thee!', \"And swear, all shame is lost in George's age!\", 'Idea of the struggle with Nature as ordained by', 'His greedy creditors unpitying seized:', 'His steed was black, his helm was barred;', 'Remember, Mary, if he calls', 'Tuscany--Guido Guinicelli of Bologna--The \"new school\"--How it', 'My soul would lie', 'Stands, the rind to pound from off them,', \"Fair trees! wheres'e'er your barks I wound,\", 'So, although the grape is wanting,', 'To him and his heathen horde.\"', 'Coffin on back took he,', 'Who sets the world at chance, Diogenes,', \"Five o'clock; the first faint streak\", 'Some days before from France, was visiting', 'In various style, for neither various style', 'Shall to the shield maintain in warlike course.', 'Take ruth and pity on my plaint, or else I am forlorn;', 'If that he wiste forto spede,', \"Since dream he must, where'er he goes,\", 'the oracle, and the hopes of the enquirer come', 'And over the Great Divide.', '\"O mightiest duke of Trojan men,--for surely, thou being safe,', 'Oh! mother, couldst thou see me here,', 'though rapture blind my eyes,', '\"These altogether doth our sovereign hide', 'The saint who enjoyed the communion of heaven,', 'because in saying this I feel that I more at large rejoice. One', 'In tearfullest banishment, is bliss.', 'And hearing the sturdy Judiciary Chief', 'Far, far at sea,', 'His posture shifts not; no excessive fears', '(Thus quick replied the wisest of mankind)', 'With eyes downbent, and brotherly bared head,', 'The flames shot from a painted fire,', 'I plough the unknown.', '\"O friars!\"  I began, \"your miseries--\"', 'And thus withinne himself bethoght,', 'Great is the palace with pillar and wall,', \"Could help a brother's soul?\", '{9} Middle Argos means the Peleponnese which, however, is never', \"And so it's better as it is--\", 'She smiled but said no word:', 'Trusty seldom found his match!', 'I pause, and drop the silent tear,--', \"'Twas but a dream! and oh! what are they all,\", 'And, close on them, dear noisy crew,', \"Now that beyond the' accursed stream she dwells,\", 'Who swelling sayles in Caspian sea doth crosse,', 'Still on this side, perhaps that it might shun', 'For these young flippertigibbets', 'Helen and all her treasures. We, thenceforth,', 'For Titan was thy sire, and fair was she,', 'But on the top, and burns at first but slow.', 'Of the city, stay thy feet!', '_Et, ecce, nunc in pulvere dormio!_', 'All is so bodingly still;', 'You know, as any feller will', 'And o’er him, as he listened, came', 'The moment grim death planted darts in his breast.', 'He got the chief-ship of police,', 'Hell gapeth wide to swallow up this tent;', 'A melting creature with a bold black eye,', 'Each his fiery charger had in due command;', 'Thy severed hand, Larides, seeks its lord;', 'Por ellas, quien no estuviere', 'Whose shrine commemorates the faith', 'The petty triumphs of the passing hour!', 'One whose yellow head was kissed', 'And gallant men of might,', 'Bullet, I think.  You were speaking of his daughter?', 'He only lendeth.', 'To his grim Cave, all dismal; yet to sense', 'Soon shall wild creatures of the field and wood', 'Then I sall rest an be at peace,', 'To bitter skies.']\n"
     ]
    }
   ],
   "source": [
    "a = random.sample(all_lines, 100)\n",
    "corpus_to_be_labeled = []\n",
    "for i in range(100):\n",
    "    corpus_to_be_labeled.append(a[i]['s'])\n",
    "print(corpus_to_be_labeled)"
   ]
  },
  {
   "cell_type": "code",
   "execution_count": 46,
   "metadata": {},
   "outputs": [],
   "source": [
    "import pandas as pd\n",
    "corpus_to_be_labeled1 = pd.DataFrame(data=corpus_to_be_labeled)\n",
    "corpus_to_be_labeled1.to_csv('./gutenberg-poetry-corpus-master/corpus_to_be_labeled.csv',encoding='utf-8')"
   ]
  },
  {
   "cell_type": "code",
   "execution_count": null,
   "metadata": {},
   "outputs": [],
   "source": []
  }
 ],
 "metadata": {
  "kernelspec": {
   "display_name": "Python 3",
   "language": "python",
   "name": "python3"
  },
  "language_info": {
   "codemirror_mode": {
    "name": "ipython",
    "version": 3
   },
   "file_extension": ".py",
   "mimetype": "text/x-python",
   "name": "python",
   "nbconvert_exporter": "python",
   "pygments_lexer": "ipython3",
   "version": "3.7.4"
  }
 },
 "nbformat": 4,
 "nbformat_minor": 2
}
